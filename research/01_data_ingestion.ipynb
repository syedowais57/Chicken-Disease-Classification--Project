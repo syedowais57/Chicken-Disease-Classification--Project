{
 "cells": [
  {
   "cell_type": "code",
   "execution_count": 10,
   "metadata": {},
   "outputs": [],
   "source": [
    "import os"
   ]
  },
  {
   "cell_type": "code",
   "execution_count": 11,
   "metadata": {},
   "outputs": [
    {
     "data": {
      "text/plain": [
       "'c:\\\\Users\\\\owais\\\\Desktop\\\\python\\\\company\\\\DEEP LEARNING\\\\Chicken-Disease-Classification--Project'"
      ]
     },
     "execution_count": 11,
     "metadata": {},
     "output_type": "execute_result"
    }
   ],
   "source": [
    "%pwd"
   ]
  },
  {
   "cell_type": "code",
   "execution_count": 12,
   "metadata": {},
   "outputs": [],
   "source": [
    "os.chdir(\"../\")"
   ]
  },
  {
   "cell_type": "code",
   "execution_count": 13,
   "metadata": {},
   "outputs": [
    {
     "data": {
      "text/plain": [
       "'c:\\\\Users\\\\owais\\\\Desktop\\\\python\\\\company\\\\DEEP LEARNING'"
      ]
     },
     "execution_count": 13,
     "metadata": {},
     "output_type": "execute_result"
    }
   ],
   "source": [
    "%pwd"
   ]
  },
  {
   "cell_type": "code",
   "execution_count": 14,
   "metadata": {},
   "outputs": [],
   "source": [
    "from dataclasses import dataclass\n",
    "from pathlib import Path\n",
    "\n",
    "@dataclass(frozen=True)\n",
    "class DataIngestionConfig:\n",
    "    root_path: Path\n",
    "    local_data_file: Path\n",
    "    unzip_file: Path\n",
    "    "
   ]
  },
  {
   "cell_type": "code",
   "execution_count": 15,
   "metadata": {},
   "outputs": [],
   "source": [
    "from cnnClassifier.constants import  *\n",
    "from cnnClassifier.UTILS.common import read_yaml ,create_directories"
   ]
  },
  {
   "cell_type": "code",
   "execution_count": 85,
   "metadata": {},
   "outputs": [],
   "source": [
    "class ConfigurationManager:\n",
    "    def __init__(self, config_filepath=CONFIG_FILE_PATH, params_filepath=PARAMS_FILE_PATH):\n",
    "        self.config = read_yaml(str(config_filepath))\n",
    "        self.params = read_yaml(str(params_filepath))\n",
    "        create_directories([self.config['artifacts_root']])\n",
    "        print(f\"Configuration loaded: {self.config}\")\n",
    "\n",
    "    def get_data_ingestion(self) -> DataIngestionConfig:\n",
    "        # Debugging output\n",
    "        print(f\"Config loaded: {self.config}\")\n",
    "\n",
    "        # Access `data_ingestion` section\n",
    "        config = self.config.get('data_ingestion', None)\n",
    "\n",
    "        if config is None:\n",
    "            raise ValueError(\"Data ingestion configuration is missing or not defined correctly.\")\n",
    "        \n",
    "        # Check if required keys are present\n",
    "        required_keys = ['root_dir', 'source_url', 'local_data_file', 'unzip_dir']\n",
    "        for key in required_keys:\n",
    "            if key not in config:\n",
    "                raise ValueError(f\"Missing required key '{key}' in data ingestion configuration.\")\n",
    "        \n",
    "        create_directories([config['root_dir']])\n",
    "        \n",
    "        data_ingestion_config = DataIngestionConfig(\n",
    "            root_dir=config['root_dir'],\n",
    "            source_url=config['source_url'],\n",
    "            local_data_file=config['local_data_file'],\n",
    "            unzip_dir=config['unzip_dir']\n",
    "        )\n",
    "        \n",
    "        return data_ingestion_config\n"
   ]
  },
  {
   "cell_type": "code",
   "execution_count": 87,
   "metadata": {},
   "outputs": [],
   "source": [
    "import os\n",
    "import zipfile\n",
    "from urllib import request\n",
    "from pathlib import Path\n",
    "import logging\n",
    "\n",
    "# Set up logging\n",
    "logger = logging.getLogger(__name__)\n",
    "logging.basicConfig(level=logging.INFO)\n",
    "\n",
    "# Function to get file size\n",
    "def get_size(path: Path) -> int:\n",
    "    return os.path.getsize(path)\n",
    "\n",
    "class DataIngestionConfig:\n",
    "    def __init__(self, root_dir: str, source_url: str, local_data_file: str, unzip_dir: str):\n",
    "        self.root_dir = root_dir\n",
    "        self.source_url = source_url\n",
    "        self.local_data_file = local_data_file\n",
    "        self.unzip_dir = unzip_dir\n",
    "\n",
    "    def download_file(self):\n",
    "        try:\n",
    "            if not os.path.exists(self.local_data_file):\n",
    "                # Download the file\n",
    "                filename, headers = request.urlretrieve(\n",
    "                    url=self.source_url,\n",
    "                    filename=self.local_data_file\n",
    "                )\n",
    "                logger.info(f\"{filename} downloaded with the following info:\\n{headers}\")\n",
    "            else:\n",
    "                # File already exists, log its size\n",
    "                file_size = get_size(Path(self.local_data_file))\n",
    "                logger.info(f\"File already exists of size: {file_size}\")\n",
    "        except Exception as e:\n",
    "            logger.error(f\"Failed to download file: {e}\")\n",
    "            raise\n",
    "\n",
    "    def extract_zip_file(self):\n",
    "        \"\"\"Extract zip file into the data directory.\"\"\"\n",
    "        try:\n",
    "            # Ensure the directory exists\n",
    "            os.makedirs(self.unzip_dir, exist_ok=True)\n",
    "\n",
    "            # Extract the zip file\n",
    "            with zipfile.ZipFile(self.local_data_file, 'r') as zip_ref:\n",
    "                zip_ref.extractall(self.unzip_dir)\n",
    "            logger.info(f\"Extracted files to {self.unzip_dir}\")\n",
    "        except Exception as e:\n",
    "            logger.error(f\"Failed to extract zip file: {e}\")\n",
    "            raise\n"
   ]
  },
  {
   "cell_type": "code",
   "execution_count": 88,
   "metadata": {},
   "outputs": [
    {
     "name": "stdout",
     "output_type": "stream",
     "text": [
      "YAML content: {'artifacts_root': 'artifacts', 'data_ingestion': {'root_dir': 'artifacts/data_ingestion', 'source_url': 'https://github.com/syedowais57/DATASET-REPOSITORY/raw/main/archive%20(9).zip', 'local_data_file': 'artifacts/data_ingestion/data.zip', 'unzip_dir': 'artifacts/data_ingestion'}}\n",
      "YAML content: {'param1': 'value1', 'param2': 'value2'}\n",
      "[2024-09-02 18:09:52,677 : INFO : common : Created directory at: artifacts]\n",
      "Configuration loaded: {'artifacts_root': 'artifacts', 'data_ingestion': {'root_dir': 'artifacts/data_ingestion', 'source_url': 'https://github.com/syedowais57/DATASET-REPOSITORY/raw/main/archive%20(9).zip', 'local_data_file': 'artifacts/data_ingestion/data.zip', 'unzip_dir': 'artifacts/data_ingestion'}}\n",
      "Config loaded: {'artifacts_root': 'artifacts', 'data_ingestion': {'root_dir': 'artifacts/data_ingestion', 'source_url': 'https://github.com/syedowais57/DATASET-REPOSITORY/raw/main/archive%20(9).zip', 'local_data_file': 'artifacts/data_ingestion/data.zip', 'unzip_dir': 'artifacts/data_ingestion'}}\n",
      "[2024-09-02 18:09:52,678 : INFO : common : Created directory at: artifacts/data_ingestion]\n",
      "[2024-09-02 18:10:39,138 : INFO : 1444926358 : artifacts/data_ingestion/data.zip downloaded with the following info:\n",
      "Connection: close\n",
      "Content-Length: 11621297\n",
      "Cache-Control: max-age=300\n",
      "Content-Security-Policy: default-src 'none'; style-src 'unsafe-inline'; sandbox\n",
      "Content-Type: application/zip\n",
      "ETag: \"9c59eb086f697a4734c2bda47f04f88206df50dfc5d0dcc683113e225dfde848\"\n",
      "Strict-Transport-Security: max-age=31536000\n",
      "X-Content-Type-Options: nosniff\n",
      "X-Frame-Options: deny\n",
      "X-XSS-Protection: 1; mode=block\n",
      "X-GitHub-Request-Id: AD74:1EAB1D:3C90B:4689C:66D5B242\n",
      "Accept-Ranges: bytes\n",
      "Date: Mon, 02 Sep 2024 12:40:36 GMT\n",
      "Via: 1.1 varnish\n",
      "X-Served-By: cache-del21724-DEL\n",
      "X-Cache: MISS\n",
      "X-Cache-Hits: 0\n",
      "X-Timer: S1725280836.589272,VS0,VE978\n",
      "Vary: Authorization,Accept-Encoding,Origin\n",
      "Access-Control-Allow-Origin: *\n",
      "Cross-Origin-Resource-Policy: cross-origin\n",
      "X-Fastly-Request-ID: 5b77299573e348a1906f3ac3dabe2f428dbb9374\n",
      "Expires: Mon, 02 Sep 2024 12:45:36 GMT\n",
      "Source-Age: 1\n",
      "\n",
      "]\n",
      "[2024-09-02 18:10:39,579 : INFO : 1444926358 : Extracted files to artifacts/data_ingestion]\n"
     ]
    }
   ],
   "source": [
    "try:\n",
    "    config = ConfigurationManager()\n",
    "    \n",
    "    # Use the method `get_data_ingestion` instead of `get_data_ingestion_config`\n",
    "    data_ingestion_config = config.get_data_ingestion()\n",
    "    \n",
    "    data_ingestion = DataIngestion(config=data_ingestion_config)\n",
    "    data_ingestion.download_file()\n",
    "    data_ingestion.extract_zip_file()\n",
    "\n",
    "\n",
    "except Exception as e:\n",
    "    print(f\"An error occurred: {e}\")\n",
    "    raise e\n"
   ]
  }
 ],
 "metadata": {
  "kernelspec": {
   "display_name": "env",
   "language": "python",
   "name": "python3"
  },
  "language_info": {
   "codemirror_mode": {
    "name": "ipython",
    "version": 3
   },
   "file_extension": ".py",
   "mimetype": "text/x-python",
   "name": "python",
   "nbconvert_exporter": "python",
   "pygments_lexer": "ipython3",
   "version": "3.11.1"
  }
 },
 "nbformat": 4,
 "nbformat_minor": 2
}
